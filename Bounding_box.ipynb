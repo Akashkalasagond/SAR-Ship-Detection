{
 "cells": [
  {
   "cell_type": "markdown",
   "id": "fef43ee6-fb5d-4545-ba04-dda263ada53e",
   "metadata": {},
   "source": [
    "## Drawing the bounding box for train and test samples"
   ]
  },
  {
   "cell_type": "code",
   "execution_count": 3,
   "id": "62aba336-e7e5-4a24-a5a4-0bd56b4fbad4",
   "metadata": {},
   "outputs": [
    {
     "name": "stdout",
     "output_type": "stream",
     "text": [
      "Bounding box information saved successfully.\n"
     ]
    }
   ],
   "source": [
    "import os\n",
    "import json\n",
    "\n",
    "def load_annotations(annotation_file):\n",
    "    with open(annotation_file, 'r') as f:\n",
    "        annotations = json.load(f)  # Assuming annotations are stored in JSON format\n",
    "    return annotations\n",
    "\n",
    "def save_bbox_info(annotations, image_dir, output_dir):\n",
    "    if not os.path.exists(output_dir):\n",
    "        os.makedirs(output_dir)\n",
    "\n",
    "    for image_data in annotations['images']:\n",
    "        image_id = image_data['id']\n",
    "        file_name = image_data['file_name']\n",
    "        image_path = os.path.join(image_dir, file_name)\n",
    "        image_annotations = [annotation['bbox'] for annotation in annotations['annotations'] if annotation['image_id'] == image_id]\n",
    "\n",
    "        output_file = os.path.join(output_dir, os.path.splitext(file_name)[0] + '.txt')\n",
    "        with open(output_file, 'w') as f:\n",
    "            for bbox in image_annotations:\n",
    "                bbox_str = ' '.join(map(str, bbox))\n",
    "                f.write(bbox_str + '\\n')\n",
    "\n",
    "def main():\n",
    "    dataset_dir = \"C:\\\\Users\\\\akash boss\\\\Suhora Project\\\\HRSID_jpg\\\\HRSID_JPG\\\\JPEGImages\"\n",
    "    annotation_file = \"C:\\\\Users\\\\akash boss\\\\Suhora Project\\\\HRSID_jpg\\\\HRSID_JPG\\\\annotations\\\\train2017.json\"\n",
    "    output_dir = \"labels\"\n",
    "\n",
    "    # Load annotations\n",
    "    annotations = load_annotations(annotation_file)\n",
    "\n",
    "    # Save bbox info\n",
    "    save_bbox_info(annotations, dataset_dir, output_dir)\n",
    "\n",
    "    print(\"Bounding box information saved successfully.\")\n",
    "\n",
    "if __name__ == \"__main__\":\n",
    "    main()\n"
   ]
  },
  {
   "cell_type": "code",
   "execution_count": 4,
   "id": "fa54746e-4f89-4900-997d-0e70ef57b5b5",
   "metadata": {},
   "outputs": [
    {
     "name": "stdout",
     "output_type": "stream",
     "text": [
      "Bounding box information saved in YOLO format successfully.\n"
     ]
    }
   ],
   "source": [
    "import os\n",
    "import json\n",
    "\n",
    "def load_annotations(annotation_file):\n",
    "    with open(annotation_file, 'r') as f:\n",
    "        annotations = json.load(f)  # Assuming annotations are stored in JSON format\n",
    "    return annotations\n",
    "\n",
    "def convert_to_yolo(bbox, img_width, img_height):\n",
    "    x_min, y_min, width, height = bbox\n",
    "    x_center = (x_min + width / 2) / img_width\n",
    "    y_center = (y_min + height / 2) / img_height\n",
    "    normalized_width = width / img_width\n",
    "    normalized_height = height / img_height\n",
    "    return x_center, y_center, normalized_width, normalized_height\n",
    "\n",
    "def save_bbox_info_yolo(annotations, image_dir, output_dir):\n",
    "    if not os.path.exists(output_dir):\n",
    "        os.makedirs(output_dir)\n",
    "\n",
    "    for image_data in annotations['images']:\n",
    "        image_id = image_data['id']\n",
    "        file_name = image_data['file_name']\n",
    "        image_path = os.path.join(image_dir, file_name)\n",
    "        image_annotations = [(annotation['bbox'], annotation['image_id']) for annotation in annotations['annotations'] if annotation['image_id'] == image_id]\n",
    "\n",
    "        img_width = image_data['width']\n",
    "        img_height = image_data['height']\n",
    "\n",
    "        output_file = os.path.join(output_dir, os.path.splitext(file_name)[0] + '.txt')\n",
    "        with open(output_file, 'w') as f:\n",
    "            for bbox, _ in image_annotations:\n",
    "                x_center, y_center, width, height = convert_to_yolo(bbox, img_width, img_height)\n",
    "                f.write(f\"0 {x_center} {y_center} {width} {height}\\n\")\n",
    "\n",
    "def main():\n",
    "    dataset_dir = \"C:\\\\Users\\\\thatw\\\\\\\\akash\\\\Suhora Project\\\\HRSID_jpg\\\\HRSID_JPG\\\\JPEGImages\"\n",
    "    annotation_file = \"C:\\\\Users\\\\thatw\\\\akash\\\\Suhora Project\\\\HRSID_jpg\\\\HRSID_JPG\\\\annotations\\\\train2017.json\"\n",
    "    output_dir = \"labels_t1\"\n",
    "\n",
    "    # Load annotations\n",
    "    annotations = load_annotations(annotation_file)\n",
    "\n",
    "    # Save bbox info in YOLO format\n",
    "    save_bbox_info_yolo(annotations, dataset_dir, output_dir)\n",
    "\n",
    "    print(\"Bounding box information saved in YOLO format successfully.\")\n",
    "\n",
    "if __name__ == \"__main__\":\n",
    "    main()\n"
   ]
  },
  {
   "cell_type": "code",
   "execution_count": null,
   "id": "bcb3b94e-01c5-4007-ad3b-d77b98bd81a8",
   "metadata": {},
   "outputs": [],
   "source": []
  }
 ],
 "metadata": {
  "kernelspec": {
   "display_name": "Python 3 (ipykernel)",
   "language": "python",
   "name": "python3"
  },
  "language_info": {
   "codemirror_mode": {
    "name": "ipython",
    "version": 3
   },
   "file_extension": ".py",
   "mimetype": "text/x-python",
   "name": "python",
   "nbconvert_exporter": "python",
   "pygments_lexer": "ipython3",
   "version": "3.12.1"
  }
 },
 "nbformat": 4,
 "nbformat_minor": 5
}
